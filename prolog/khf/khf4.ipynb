{
 "cells": [
  {
   "cell_type": "code",
   "execution_count": 39,
   "metadata": {
    "vscode": {
     "languageId": "prolog"
    }
   },
   "outputs": [
    {
     "data": {
      "text/html": [
       "\n",
       "            <style>\n",
       "            details  {\n",
       "              font-family: Menlo, Consolas, 'DejaVu Sans Mono', monospace; font-size: 13px;\n",
       "            }\n",
       "\n",
       "            details > summary {\n",
       "              cursor: pointer;\n",
       "            }\n",
       "            </style>\n",
       "            <details><summary>Previously defined clauses of user:satrak_mx/4 were retracted (click to expand)</summary><pre>:- dynamic satrak_mx/4.\n",
       "\n",
       "satrak_mx(1-1, [], [], A) :-\n",
       "    A=[[0]].\n",
       "satrak_mx(_-_, A, B, C) :-\n",
       "    trees_pos(A, B, D),\n",
       "    apply_tree_pos(D, C).\n",
       "</pre></details>"
      ],
      "text/plain": [
       "Previously defined clauses of user:satrak_mx/4 were retracted:\n",
       ":- dynamic satrak_mx/4.\n",
       "\n",
       "satrak_mx(1-1, [], [], A) :-\n",
       "    A=[[0]].\n",
       "satrak_mx(_-_, A, B, C) :-\n",
       "    trees_pos(A, B, D),\n",
       "    apply_tree_pos(D, C).\n"
      ]
     },
     "metadata": {
      "application/json": {}
     },
     "output_type": "display_data"
    },
    {
     "data": {
      "text/plain": [
       "% Asserting clauses for user:satrak_mx/4\n"
      ]
     },
     "metadata": {},
     "output_type": "display_data"
    },
    {
     "data": {
      "text/html": [
       "\n",
       "            <style>\n",
       "            details  {\n",
       "              font-family: Menlo, Consolas, 'DejaVu Sans Mono', monospace; font-size: 13px;\n",
       "            }\n",
       "\n",
       "            details > summary {\n",
       "              cursor: pointer;\n",
       "            }\n",
       "            </style>\n",
       "            <details><summary>Previously defined clauses of user:mx_len/2 were retracted (click to expand)</summary><pre>:- dynamic mx_len/2.\n",
       "\n",
       "mx_len([], _).\n",
       "mx_len([A|B], C) :-\n",
       "    length(A, C),\n",
       "    mx_len(B, C).\n",
       "</pre></details>"
      ],
      "text/plain": [
       "Previously defined clauses of user:mx_len/2 were retracted:\n",
       ":- dynamic mx_len/2.\n",
       "\n",
       "mx_len([], _).\n",
       "mx_len([A|B], C) :-\n",
       "    length(A, C),\n",
       "    mx_len(B, C).\n"
      ]
     },
     "metadata": {
      "application/json": {}
     },
     "output_type": "display_data"
    },
    {
     "data": {
      "text/plain": [
       "% Asserting clauses for user:mx_len/2\n"
      ]
     },
     "metadata": {},
     "output_type": "display_data"
    },
    {
     "data": {
      "text/html": [
       "\n",
       "            <style>\n",
       "            details  {\n",
       "              font-family: Menlo, Consolas, 'DejaVu Sans Mono', monospace; font-size: 13px;\n",
       "            }\n",
       "\n",
       "            details > summary {\n",
       "              cursor: pointer;\n",
       "            }\n",
       "            </style>\n",
       "            <details><summary>Previously defined clauses of user:nthelem/3 were retracted (click to expand)</summary><pre>:- dynamic nthelem/3.\n",
       "\n",
       "nthelem([_|A], B, C) :-\n",
       "    B>1,\n",
       "    D is B+ -1,\n",
       "    nthelem(A, D, C).\n",
       "nthelem([A|_], 1, A).\n",
       "</pre></details>"
      ],
      "text/plain": [
       "Previously defined clauses of user:nthelem/3 were retracted:\n",
       ":- dynamic nthelem/3.\n",
       "\n",
       "nthelem([_|A], B, C) :-\n",
       "    B>1,\n",
       "    D is B+ -1,\n",
       "    nthelem(A, D, C).\n",
       "nthelem([A|_], 1, A).\n"
      ]
     },
     "metadata": {
      "application/json": {}
     },
     "output_type": "display_data"
    },
    {
     "data": {
      "text/plain": [
       "% Asserting clauses for user:nthelem/3\n"
      ]
     },
     "metadata": {},
     "output_type": "display_data"
    },
    {
     "data": {
      "text/html": [
       "\n",
       "            <style>\n",
       "            details  {\n",
       "              font-family: Menlo, Consolas, 'DejaVu Sans Mono', monospace; font-size: 13px;\n",
       "            }\n",
       "\n",
       "            details > summary {\n",
       "              cursor: pointer;\n",
       "            }\n",
       "            </style>\n",
       "            <details><summary>Previously defined clauses of user:mx_pos/3 were retracted (click to expand)</summary><pre>:- dynamic mx_pos/3.\n",
       "\n",
       "mx_pos(A, B-C, D) :-\n",
       "    nthelem(A, B, E),\n",
       "    nthelem(E, C, D).\n",
       "</pre></details>"
      ],
      "text/plain": [
       "Previously defined clauses of user:mx_pos/3 were retracted:\n",
       ":- dynamic mx_pos/3.\n",
       "\n",
       "mx_pos(A, B-C, D) :-\n",
       "    nthelem(A, B, E),\n",
       "    nthelem(E, C, D).\n"
      ]
     },
     "metadata": {
      "application/json": {}
     },
     "output_type": "display_data"
    },
    {
     "data": {
      "text/plain": [
       "% Asserting clauses for user:mx_pos/3\n"
      ]
     },
     "metadata": {},
     "output_type": "display_data"
    },
    {
     "data": {
      "text/html": [
       "\n",
       "            <style>\n",
       "            details  {\n",
       "              font-family: Menlo, Consolas, 'DejaVu Sans Mono', monospace; font-size: 13px;\n",
       "            }\n",
       "\n",
       "            details > summary {\n",
       "              cursor: pointer;\n",
       "            }\n",
       "            </style>\n",
       "            <details><summary>Previously defined clauses of user:dir_pos/3 were retracted (click to expand)</summary><pre>:- dynamic dir_pos/3.\n",
       "\n",
       "dir_pos(n, A-B, C-B) :-\n",
       "    C is A-1.\n",
       "dir_pos(e, A-B, A-C) :-\n",
       "    C is B+1.\n",
       "dir_pos(s, A-B, C-B) :-\n",
       "    C is A+1.\n",
       "dir_pos(w, A-B, A-C) :-\n",
       "    C is B-1.\n",
       "</pre></details>"
      ],
      "text/plain": [
       "Previously defined clauses of user:dir_pos/3 were retracted:\n",
       ":- dynamic dir_pos/3.\n",
       "\n",
       "dir_pos(n, A-B, C-B) :-\n",
       "    C is A-1.\n",
       "dir_pos(e, A-B, A-C) :-\n",
       "    C is B+1.\n",
       "dir_pos(s, A-B, C-B) :-\n",
       "    C is A+1.\n",
       "dir_pos(w, A-B, A-C) :-\n",
       "    C is B-1.\n"
      ]
     },
     "metadata": {
      "application/json": {}
     },
     "output_type": "display_data"
    },
    {
     "data": {
      "text/plain": [
       "% Asserting clauses for user:dir_pos/3\n"
      ]
     },
     "metadata": {},
     "output_type": "display_data"
    },
    {
     "data": {
      "text/html": [
       "\n",
       "            <style>\n",
       "            details  {\n",
       "              font-family: Menlo, Consolas, 'DejaVu Sans Mono', monospace; font-size: 13px;\n",
       "            }\n",
       "\n",
       "            details > summary {\n",
       "              cursor: pointer;\n",
       "            }\n",
       "            </style>\n",
       "            <details><summary>Previously defined clauses of user:trees_pos/3 were retracted (click to expand)</summary><pre>:- dynamic trees_pos/3.\n",
       "\n",
       "trees_pos([], [], _).\n",
       "trees_pos([A-B|C], [D|E], [F-G|H]) :-\n",
       "    dir_pos(D, A-B, F-G),\n",
       "    trees_pos(C, E, H).\n",
       "</pre></details>"
      ],
      "text/plain": [
       "Previously defined clauses of user:trees_pos/3 were retracted:\n",
       ":- dynamic trees_pos/3.\n",
       "\n",
       "trees_pos([], [], _).\n",
       "trees_pos([A-B|C], [D|E], [F-G|H]) :-\n",
       "    dir_pos(D, A-B, F-G),\n",
       "    trees_pos(C, E, H).\n"
      ]
     },
     "metadata": {
      "application/json": {}
     },
     "output_type": "display_data"
    },
    {
     "data": {
      "text/plain": [
       "% Asserting clauses for user:trees_pos/3\n"
      ]
     },
     "metadata": {},
     "output_type": "display_data"
    },
    {
     "data": {
      "text/html": [
       "\n",
       "            <style>\n",
       "            details  {\n",
       "              font-family: Menlo, Consolas, 'DejaVu Sans Mono', monospace; font-size: 13px;\n",
       "            }\n",
       "\n",
       "            details > summary {\n",
       "              cursor: pointer;\n",
       "            }\n",
       "            </style>\n",
       "            <details><summary>Previously defined clauses of user:apply_tree_pos/2 were retracted (click to expand)</summary><pre>:- dynamic apply_tree_pos/2.\n",
       "\n",
       "apply_tree_pos([], _).\n",
       "apply_tree_pos([A-B|C], D) :-\n",
       "    mx_pos(D, A-B, 1),\n",
       "    apply_tree_pos(C, D).\n",
       "</pre></details>"
      ],
      "text/plain": [
       "Previously defined clauses of user:apply_tree_pos/2 were retracted:\n",
       ":- dynamic apply_tree_pos/2.\n",
       "\n",
       "apply_tree_pos([], _).\n",
       "apply_tree_pos([A-B|C], D) :-\n",
       "    mx_pos(D, A-B, 1),\n",
       "    apply_tree_pos(C, D).\n"
      ]
     },
     "metadata": {
      "application/json": {}
     },
     "output_type": "display_data"
    },
    {
     "data": {
      "text/plain": [
       "% Asserting clauses for user:apply_tree_pos/2\n"
      ]
     },
     "metadata": {},
     "output_type": "display_data"
    },
    {
     "data": {
      "text/plain": [
       "\u001b[1mMx = [[_61642,_61648,_61654],[_61664,_61670,1]]"
      ]
     },
     "metadata": {},
     "output_type": "display_data"
    },
    {
     "data": {
      "text/plain": [
       "\u001b[1mMx = [[_63364,1],[_63380,_63386]]"
      ]
     },
     "metadata": {},
     "output_type": "display_data"
    },
    {
     "data": {
      "text/plain": [
       "\u001b[1;31mfalse"
      ]
     },
     "metadata": {},
     "output_type": "display_data"
    },
    {
     "data": {
      "text/plain": [
       "\u001b[1mMx = [[_66236,1,_66248],[_66258,_66264,_66270]]"
      ]
     },
     "metadata": {},
     "output_type": "display_data"
    },
    {
     "data": {
      "text/plain": [
       "\u001b[1mMx = [[_68104,_68110,_68116,1,_68128],[_68138,_68144,_68150,_68156,_68162],[1,_68178,_68184,1,_68196],[_68206,_68212,_68218,_68224,_68230]]"
      ]
     },
     "metadata": {},
     "output_type": "display_data"
    }
   ],
   "source": [
    "% :- type parcMutató ==   int-int.          % egy parcella helyét meghatározó egészszám-pár\n",
    "% :- type fák        ==   list(parcMutató). % a fák helyeit tartalmazó lista\n",
    "% :- type irány    --->   n                 % észak \n",
    "%                       ; e                 % kelet \n",
    "%                       ; s                 % dél   \n",
    "%                       ; w.                % nyugat\n",
    "% :- type sHelyek    ==   list(irany).      % a fákhoz tartozó sátrak irányát megadó lista\n",
    "% :- type bool       ==   int               % csak 0 vagy 1 lehet\n",
    "% :- type boolMx     ==   list(list(bool)). % a sátrak helyét leíró 0-1 mátrix\n",
    "\n",
    "% :- pred satrak_mx(parcMutató::in,         % NM\n",
    "%                   fák::in,                % Fs\n",
    "%                   sHelyek::in,            % Ss\n",
    "%                   boolMx::out).           % Mx\n",
    "\n",
    "satrak_mx(1-1, [], [], Mx):-\n",
    "    Mx = [[0]].\n",
    "\n",
    "mx_len([], _).\n",
    "mx_len([H|T], L):-\n",
    "    length(H, L),\n",
    "    mx_len(T, L).\n",
    "\n",
    "nthelem([_|T], N, Elem):-\n",
    "    N > 1,\n",
    "    N1 is N - 1,\n",
    "    nthelem(T, N1, Elem).\n",
    "\n",
    "nthelem([H|_], 1, H).\n",
    "\n",
    "\n",
    "mx_pos(Mx, Row-Col, Val):-\n",
    "    nthelem(Mx, Row, RowList),\n",
    "    nthelem(RowList, Col, Val).\n",
    "\n",
    "dir_pos(n, Row-Col, Row1-Col):-\n",
    "    Row1 is Row - 1.\n",
    "\n",
    "dir_pos(e, Row-Col, Row-Col1):-\n",
    "    Col1 is Col + 1.\n",
    "\n",
    "dir_pos(s, Row-Col, Row1-Col):-\n",
    "    Row1 is Row + 1.\n",
    "\n",
    "dir_pos(w, Row-Col, Row-Col1):-\n",
    "    Col1 is Col - 1.\n",
    "    \n",
    "trees_pos([], [], _).\n",
    "trees_pos([Row-Col|T], [Dir|Dt], [Row1-Col1|TT]):-\n",
    "    dir_pos(Dir, Row-Col, Row1-Col1),\n",
    "    trees_pos(T, Dt, TT).\n",
    "\n",
    "apply_tree_pos([], _, []).\n",
    "apply_tree_pos([Row|TRow], TreePositions, Mx):-\n",
    "    apply_tree_pos(TRow, TreePositions, Mx1),\n",
    "    \n",
    "\n",
    "\n",
    "\n",
    "satrak_mx(Row-Col, Trees, TentDirs, Mx):-\n",
    "    length(Mx, Row),\n",
    "    mx_len(Mx, Col),\n",
    "    trees_pos(Trees, TentDirs, TreePositions),\n",
    "    apply_tree_pos(TreePositions, Mx).\n",
    "\n",
    "\n",
    "\n",
    "\n",
    "\n",
    "\n",
    "?- satrak_mx(2-3, [2-2], [e], Mx).\t\n",
    "?- satrak_mx(2-2, [1-1], [e], Mx). % Mx = [[0, 0], [0, 0]].\n",
    "?- satrak_mx(2-3, [2-2], [s], Mx). % false\n",
    "?- satrak_mx(2-3, [1-1,2-2], [e,n], Mx). %false\n",
    "\n",
    "?- satrak_mx(4-5, [2-4,1-5,3-2], [s,w,w], Mx)."
   ]
  }
 ],
 "metadata": {
  "kernelspec": {
   "display_name": "Prolog",
   "language": "prolog",
   "name": "prolog_kernel"
  },
  "language_info": {
   "codemirror_mode": "prolog",
   "file_extension": ".pl",
   "mimetype": "text/x-prolog",
   "name": "Prolog"
  }
 },
 "nbformat": 4,
 "nbformat_minor": 2
}
