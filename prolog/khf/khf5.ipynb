{
 "cells": [
  {
   "cell_type": "code",
   "execution_count": 32,
   "metadata": {
    "vscode": {
     "languageId": "prolog"
    }
   },
   "outputs": [
    {
     "data": {
      "text/plain": [
       "\u001b[1mtrue"
      ]
     },
     "metadata": {},
     "output_type": "display_data"
    }
   ],
   "source": [
    "jupyter:set_prolog_impl(swi)."
   ]
  },
  {
   "cell_type": "code",
   "execution_count": 33,
   "metadata": {
    "vscode": {
     "languageId": "prolog"
    }
   },
   "outputs": [
    {
     "data": {
      "text/plain": [
       "% Asserting clauses for user:dir_pos/3\n"
      ]
     },
     "metadata": {},
     "output_type": "display_data"
    },
    {
     "data": {
      "text/plain": [
       "% Asserting clauses for user:is_pos_valid/3\n"
      ]
     },
     "metadata": {},
     "output_type": "display_data"
    },
    {
     "data": {
      "text/plain": [
       "% Asserting clauses for user:check_tent_pos/5\n"
      ]
     },
     "metadata": {},
     "output_type": "display_data"
    },
    {
     "data": {
      "text/plain": [
       "% Asserting clauses for user:ensure_dir_lists/1\n"
      ]
     },
     "metadata": {},
     "output_type": "display_data"
    },
    {
     "data": {
      "text/plain": [
       "% Asserting clauses for user:iranylistak/3\n"
      ]
     },
     "metadata": {},
     "output_type": "display_data"
    },
    {
     "data": {
      "text/plain": [
       "% Asserting clauses for user:iranylistak/4\n"
      ]
     },
     "metadata": {},
     "output_type": "display_data"
    },
    {
     "data": {
      "text/plain": [
       "\u001b[1mILs = [[e,s]]"
      ]
     },
     "metadata": {},
     "output_type": "display_data"
    },
    {
     "data": {
      "text/markdown": [
       "ILs | \n",
       ":- | \n",
       "[[e],[e,s]] | "
      ],
      "text/plain": [
       "ILs | \n",
       ":- | \n",
       "[[e],[e,s]] | "
      ]
     },
     "metadata": {},
     "output_type": "display_data"
    },
    {
     "data": {
      "text/plain": [
       "\u001b[1mtrue"
      ]
     },
     "metadata": {},
     "output_type": "display_data"
    },
    {
     "data": {
      "text/markdown": [
       "ILs | \n",
       ":- | \n",
       "[[e,s,w],[e,s,w],[e,n,s],[n,s,w],[e,n,s],[e,n,s,w],[e,n,w]] | "
      ],
      "text/plain": [
       "ILs | \n",
       ":- | \n",
       "[[e,s,w],[e,s,w],[e,n,s],[n,s,w],[e,n,s],[e,n,s,w],[e,n,w]] | "
      ]
     },
     "metadata": {},
     "output_type": "display_data"
    },
    {
     "data": {
      "text/plain": [
       "\u001b[1mtrue"
      ]
     },
     "metadata": {},
     "output_type": "display_data"
    },
    {
     "data": {
      "text/plain": [
       "\u001b[1mILs = []"
      ]
     },
     "metadata": {},
     "output_type": "display_data"
    }
   ],
   "source": [
    "dir_pos(n, Row-Col, Row1-Col):-\n",
    "    Row1 is Row - 1.\n",
    "\n",
    "dir_pos(e, Row-Col, Row-Col1):-\n",
    "    Col1 is Col + 1.\n",
    "\n",
    "dir_pos(s, Row-Col, Row1-Col):-\n",
    "    Row1 is Row + 1.\n",
    "\n",
    "dir_pos(w, Row-Col, Row-Col1):-\n",
    "    Col1 is Col - 1.\n",
    "\n",
    "dir_pos(ne, Row-Col, Row1-Col1):-\n",
    "    Row1 is Row - 1,\n",
    "    Col1 is Col + 1.\n",
    "\n",
    "dir_pos(se, Row-Col, Row1-Col1):-\n",
    "    Row1 is Row + 1,\n",
    "    Col1 is Col + 1.\n",
    "\n",
    "dir_pos(sw, Row-Col, Row1-Col1):-\n",
    "    Row1 is Row + 1,\n",
    "    Col1 is Col - 1.\n",
    "\n",
    "dir_pos(nw, Row-Col, Row1-Col1):-\n",
    "    Row1 is Row - 1,\n",
    "    Col1 is Col - 1.\n",
    "\n",
    "is_pos_valid(Row-Col, MaxRow-MaxCol, Trees):-\n",
    "    Row >= 1,\n",
    "    Row =< MaxRow,\n",
    "    Col >= 1,\n",
    "    Col =< MaxCol,\n",
    "    \\+member(Row-Col, Trees).\n",
    "\n",
    "check_tent_pos(MaxRow-MaxCol, Row-Col, Trees, [Dir | DirTail], [Dir | IL]):-\n",
    "    check_tent_pos(MaxRow-MaxCol, Row-Col, Trees, DirTail, IL),\n",
    "    dir_pos(Dir, Row-Col, TentRow-TentCol),\n",
    "    is_pos_valid(TentRow-TentCol, MaxRow-MaxCol, Trees).\n",
    "\n",
    "check_tent_pos(MaxRow-MaxCol, Row-Col, Trees, [Dir | DirTail], IL):-\n",
    "    check_tent_pos(MaxRow-MaxCol, Row-Col, Trees, DirTail, IL),\n",
    "    dir_pos(Dir, Row-Col, TentRow-TentCol),\n",
    "    \\+is_pos_valid(TentRow-TentCol, MaxRow-MaxCol, Trees).\n",
    "\n",
    "    \n",
    "check_tent_pos(_, _, _, [], []).\n",
    "\n",
    "ensure_dir_lists([]).\n",
    "ensure_dir_lists([H|T]):-\n",
    "    length(H, L),\n",
    "    L > 0,\n",
    "    ensure_dir_lists(T).\n",
    "\n",
    "iranylistak(MaxRow-MaxCol, Trees, IranyListak):-\n",
    "    iranylistak(MaxRow-MaxCol, Trees, Trees, IranyListak),\n",
    "    ensure_dir_lists(IranyListak), !.\n",
    "\n",
    "iranylistak(_,_,[]).\n",
    "\n",
    "iranylistak(MaxRow-MaxCol, [TreeRow-TreeCol | Fs], Trees, [IL| ILs]):-\n",
    "    check_tent_pos(MaxRow-MaxCol, TreeRow-TreeCol, Trees, [e, n, s, w], IL),\n",
    "    iranylistak(MaxRow-MaxCol, Fs, Trees, ILs).\n",
    "iranylistak(_, [], _, []).\n",
    "\n",
    "?- iranylistak(5-5, [1-1], ILs).\n",
    "?- jupyter:print_table(iranylistak(3-3, [1-1,2-1], ILs)).\n",
    "?- jupyter:print_table(iranylistak(6-6, [1-3,1-5,3-1,4-6,5-1,5-4,6-5], ILs)).\n",
    "?- iranylistak(2-3, [1-1,1-2,2-1], ILs)."
   ]
  },
  {
   "cell_type": "code",
   "execution_count": 34,
   "metadata": {
    "vscode": {
     "languageId": "prolog"
    }
   },
   "outputs": [],
   "source": [
    "% :- pred get_nth_element(N::in,       % N\n",
    "%                        List::in,     % List\n",
    "%                        Element::out) % Element\n",
    "get_nth_element(1, [X|_], X).\n",
    "get_nth_element(N, [_|T], Element) :-\n",
    "    N > 1,\n",
    "    N1 is N - 1,\n",
    "    get_nth_element(N1, T, Element).\n",
    "\n",
    "% :- pred sator_szukites(fák::in,            % Fs\n",
    "%                        int::in,            % I\n",
    "%                        iránylisták::in,    % ILs0\n",
    "%                        iránylisták::out)   % ILs\n",
    "sator_szukites(Fs, I, ILs0, ILs):-\n",
    "    get_nth_element(I, ILs0, ThisDirList),\n",
    "    length(ThisDirList, 1),\n",
    "    get_nth_element(I, Fs, ThisTree),\n",
    "    dir_pos(Dir, ThisTree, ThisTent),\n",
    "    get_forbidden_positions(ThisTent, Fs, ForbiddenPositions),\n",
    "    sort(ForbiddenPositions, SortedForbiddenPositions),\n",
    "    shrink_possible_positions(Fs, SortedForbiddenPositions, ILs0, ILs).\n",
    "\n",
    "get_adjacent_positions(_, [], []).\n",
    "get_adjacent_positions(Row-Col, [Dir| TDir], [AdjRow-AdjCol|T]):-\n",
    "    dir_pos(Dir, Row-Col, AdjRow-AdjCol),\n",
    "    get_adjacent_positions(Row-Col, Tdir, T).\n",
    "\n",
    "% :- pred get_forbidden_positions(sator::in,            % Tent\n",
    "%                                 fák::in,              % Fs\n",
    "%                                 tiltott_pozíciók::out) % ForbiddenPositions\n",
    "get_forbidden_positions(Row-Col, Trees, ForbiddenPositions):-\n",
    "    get_adjacent_positions(Row-Col, [n,e,s,w,ne,se,sw,nw], AdjacentPositions),\n",
    "    append(Trees, AdjacentPositions, ForbiddenPositions).\n",
    "\n",
    "\n",
    "\n",
    "% Don't shrink if we are at the end of the list TODO\n",
    "% :- pred shrink_possible_positions(Fák::in,          % Fs\n",
    "%                                   tiltott_pozíciók::in, % ForbiddenPositions\n",
    "%                                   iránylisták::in,  % ILs0\n",
    "%                                   iránylisták::out) % ILs\n",
    "shrink_possible_positions(\n",
    "    [CurTree|TailTrees],\n",
    "    ForbiddenPositions,\n",
    "    [IL|TailILs],\n",
    "    [CorrectPositions| TailCorrectPositions]\n",
    "):-\n",
    "    length(IL, ILLength),\n",
    "    ILLength >= 1,\n",
    "    print(IL),nl,\n",
    "    shrink_this_position(CurTree, IL, ForbiddenPositions, CorrectPositions),\n",
    "    shrink_possible_positions(TailTrees, ForbiddenPositions, TailILs, TailCorrectPositions).\n",
    "\n",
    "shrink_this_position(_, [], _, []).\n",
    "shrink_this_position(\n",
    "    Pos,\n",
    "    [Dir, TailDirs], \n",
    "    ForbiddenPositions,\n",
    "    [AdjPos|CorrectPositions]\n",
    "):-\n",
    "    dir_pos(Dir, Pos, AdjPos),\n",
    "    \\+member(AdjPos, ForbiddenPositions),\n",
    "    shrink_this_position(Pos, TailDirs, ForbiddenPositions, CorrectPositions).\n",
    "shrink_this_position(\n",
    "    Pos,\n",
    "    [Dir, TailDirs], \n",
    "    ForbiddenPositions,\n",
    "    CorrectPositions\n",
    "):-\n",
    "    dir_pos(Dir, Pos, AdjPos),\n",
    "    member(AdjPos, ForbiddenPositions),\n",
    "    shrink_this_position(Pos, TailDirs, ForbiddenPositions, CorrectPositions).\n",
    "\n",
    "    \n",
    "?- sator_szukites([1-1,2-2], 2, [[e],[n,s]], ILs).\n",
    "?- sator_szukites([1-1,2-2], 2, [[e,s],[s]], ILs).\n",
    "% ?- sator_szukites([4-2,2-2], 1, [[n],[e,n,s,w]],ILs).\n",
    "% ?- sator_szukites([1-1,1-5,3-3,3-5], 3, [[e,s],[e,s,w],[n],[e,n,s,w]],ILs).\n",
    "\n",
    "    "
   ]
  }
 ],
 "metadata": {
  "kernelspec": {
   "display_name": "Prolog",
   "language": "prolog",
   "name": "prolog_kernel"
  },
  "language_info": {
   "codemirror_mode": "prolog",
   "file_extension": ".pl",
   "mimetype": "text/x-prolog",
   "name": "Prolog"
  }
 },
 "nbformat": 4,
 "nbformat_minor": 2
}
