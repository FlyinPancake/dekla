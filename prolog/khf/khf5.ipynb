{
 "cells": [
  {
   "cell_type": "code",
   "execution_count": 1,
   "metadata": {
    "vscode": {
     "languageId": "prolog"
    }
   },
   "outputs": [
    {
     "data": {
      "text/plain": [
       "\u001b[1mtrue"
      ]
     },
     "metadata": {},
     "output_type": "display_data"
    }
   ],
   "source": [
    "jupyter:set_prolog_impl(swi)."
   ]
  },
  {
   "cell_type": "code",
   "execution_count": 23,
   "metadata": {
    "vscode": {
     "languageId": "prolog"
    }
   },
   "outputs": [
    {
     "data": {
      "text/html": [
       "\n",
       "            <style>\n",
       "            details  {\n",
       "              font-family: Menlo, Consolas, 'DejaVu Sans Mono', monospace; font-size: 13px;\n",
       "            }\n",
       "\n",
       "            details > summary {\n",
       "              cursor: pointer;\n",
       "            }\n",
       "            </style>\n",
       "            <details><summary>Previously defined clauses of user:dir_pos/3 were retracted (click to expand)</summary><pre>:- dynamic dir_pos/3.\n",
       "\n",
       "dir_pos(n, A-B, C-B) :-\n",
       "    C is A-1.\n",
       "dir_pos(e, A-B, A-C) :-\n",
       "    C is B+1.\n",
       "dir_pos(s, A-B, C-B) :-\n",
       "    C is A+1.\n",
       "dir_pos(w, A-B, A-C) :-\n",
       "    C is B-1.\n",
       "</pre></details>"
      ],
      "text/plain": [
       "Previously defined clauses of user:dir_pos/3 were retracted:\n",
       ":- dynamic dir_pos/3.\n",
       "\n",
       "dir_pos(n, A-B, C-B) :-\n",
       "    C is A-1.\n",
       "dir_pos(e, A-B, A-C) :-\n",
       "    C is B+1.\n",
       "dir_pos(s, A-B, C-B) :-\n",
       "    C is A+1.\n",
       "dir_pos(w, A-B, A-C) :-\n",
       "    C is B-1.\n"
      ]
     },
     "metadata": {
      "application/json": {}
     },
     "output_type": "display_data"
    },
    {
     "data": {
      "text/plain": [
       "% Asserting clauses for user:dir_pos/3\n"
      ]
     },
     "metadata": {},
     "output_type": "display_data"
    },
    {
     "data": {
      "text/html": [
       "\n",
       "            <style>\n",
       "            details  {\n",
       "              font-family: Menlo, Consolas, 'DejaVu Sans Mono', monospace; font-size: 13px;\n",
       "            }\n",
       "\n",
       "            details > summary {\n",
       "              cursor: pointer;\n",
       "            }\n",
       "            </style>\n",
       "            <details><summary>Previously defined clauses of user:is_pos_valid/3 were retracted (click to expand)</summary><pre>:- dynamic is_pos_valid/3.\n",
       "\n",
       "is_pos_valid(A-B, C-D, E) :-\n",
       "    A>=1,\n",
       "    A=<C,\n",
       "    B>=1,\n",
       "    B=<D,\n",
       "    \\+ member(A-B, E).\n",
       "</pre></details>"
      ],
      "text/plain": [
       "Previously defined clauses of user:is_pos_valid/3 were retracted:\n",
       ":- dynamic is_pos_valid/3.\n",
       "\n",
       "is_pos_valid(A-B, C-D, E) :-\n",
       "    A>=1,\n",
       "    A=<C,\n",
       "    B>=1,\n",
       "    B=<D,\n",
       "    \\+ member(A-B, E).\n"
      ]
     },
     "metadata": {
      "application/json": {}
     },
     "output_type": "display_data"
    },
    {
     "data": {
      "text/plain": [
       "% Asserting clauses for user:is_pos_valid/3\n"
      ]
     },
     "metadata": {},
     "output_type": "display_data"
    },
    {
     "data": {
      "text/html": [
       "\n",
       "            <style>\n",
       "            details  {\n",
       "              font-family: Menlo, Consolas, 'DejaVu Sans Mono', monospace; font-size: 13px;\n",
       "            }\n",
       "\n",
       "            details > summary {\n",
       "              cursor: pointer;\n",
       "            }\n",
       "            </style>\n",
       "            <details><summary>Previously defined clauses of user:check_tent_pos/5 were retracted (click to expand)</summary><pre>:- dynamic check_tent_pos/5.\n",
       "\n",
       "check_tent_pos(A-B, C-D, E, [F|G], [F|H]) :-\n",
       "    is_pos_valid(I-J, A-B, E),\n",
       "    dir_pos(F, C-D, I-J),\n",
       "    check_tent_pos(A-B, C-D, E, G, H).\n",
       "check_tent_pos(A-B, C-D, E, [F|G], H) :-\n",
       "    dir_pos(F, C-D, I-J),\n",
       "    \\+ is_pos_valid(I-J, A-B, E),\n",
       "    check_tent_pos(A-B, C-D, E, G, H).\n",
       "check_tent_pos(_, _, _, [], []).\n",
       "</pre></details>"
      ],
      "text/plain": [
       "Previously defined clauses of user:check_tent_pos/5 were retracted:\n",
       ":- dynamic check_tent_pos/5.\n",
       "\n",
       "check_tent_pos(A-B, C-D, E, [F|G], [F|H]) :-\n",
       "    is_pos_valid(I-J, A-B, E),\n",
       "    dir_pos(F, C-D, I-J),\n",
       "    check_tent_pos(A-B, C-D, E, G, H).\n",
       "check_tent_pos(A-B, C-D, E, [F|G], H) :-\n",
       "    dir_pos(F, C-D, I-J),\n",
       "    \\+ is_pos_valid(I-J, A-B, E),\n",
       "    check_tent_pos(A-B, C-D, E, G, H).\n",
       "check_tent_pos(_, _, _, [], []).\n"
      ]
     },
     "metadata": {
      "application/json": {}
     },
     "output_type": "display_data"
    },
    {
     "data": {
      "text/plain": [
       "% Asserting clauses for user:check_tent_pos/5\n"
      ]
     },
     "metadata": {},
     "output_type": "display_data"
    },
    {
     "data": {
      "text/html": [
       "\n",
       "            <style>\n",
       "            details  {\n",
       "              font-family: Menlo, Consolas, 'DejaVu Sans Mono', monospace; font-size: 13px;\n",
       "            }\n",
       "\n",
       "            details > summary {\n",
       "              cursor: pointer;\n",
       "            }\n",
       "            </style>\n",
       "            <details><summary>Previously defined clauses of user:ensure_dir_lists/1 were retracted (click to expand)</summary><pre>:- dynamic ensure_dir_lists/1.\n",
       "\n",
       "ensure_dir_lists([]).\n",
       "ensure_dir_lists([A|B]) :-\n",
       "    length(A, C),\n",
       "    C>0,\n",
       "    ensure_dir_lists(B).\n",
       "</pre></details>"
      ],
      "text/plain": [
       "Previously defined clauses of user:ensure_dir_lists/1 were retracted:\n",
       ":- dynamic ensure_dir_lists/1.\n",
       "\n",
       "ensure_dir_lists([]).\n",
       "ensure_dir_lists([A|B]) :-\n",
       "    length(A, C),\n",
       "    C>0,\n",
       "    ensure_dir_lists(B).\n"
      ]
     },
     "metadata": {
      "application/json": {}
     },
     "output_type": "display_data"
    },
    {
     "data": {
      "text/plain": [
       "% Asserting clauses for user:ensure_dir_lists/1\n"
      ]
     },
     "metadata": {},
     "output_type": "display_data"
    },
    {
     "data": {
      "text/html": [
       "\n",
       "            <style>\n",
       "            details  {\n",
       "              font-family: Menlo, Consolas, 'DejaVu Sans Mono', monospace; font-size: 13px;\n",
       "            }\n",
       "\n",
       "            details > summary {\n",
       "              cursor: pointer;\n",
       "            }\n",
       "            </style>\n",
       "            <details><summary>Previously defined clauses of user:iranylistak/3 were retracted (click to expand)</summary><pre>:- dynamic iranylistak/3.\n",
       "\n",
       "iranylistak(A-B, C, D) :-\n",
       "    iranylistak(A-B, C, C, D),\n",
       "    ensure_dir_lists(D),\n",
       "    !.\n",
       "iranylistak(_, _, []).\n",
       "</pre></details>"
      ],
      "text/plain": [
       "Previously defined clauses of user:iranylistak/3 were retracted:\n",
       ":- dynamic iranylistak/3.\n",
       "\n",
       "iranylistak(A-B, C, D) :-\n",
       "    iranylistak(A-B, C, C, D),\n",
       "    ensure_dir_lists(D),\n",
       "    !.\n",
       "iranylistak(_, _, []).\n"
      ]
     },
     "metadata": {
      "application/json": {}
     },
     "output_type": "display_data"
    },
    {
     "data": {
      "text/plain": [
       "% Asserting clauses for user:iranylistak/3\n"
      ]
     },
     "metadata": {},
     "output_type": "display_data"
    },
    {
     "data": {
      "text/html": [
       "\n",
       "            <style>\n",
       "            details  {\n",
       "              font-family: Menlo, Consolas, 'DejaVu Sans Mono', monospace; font-size: 13px;\n",
       "            }\n",
       "\n",
       "            details > summary {\n",
       "              cursor: pointer;\n",
       "            }\n",
       "            </style>\n",
       "            <details><summary>Previously defined clauses of user:iranylistak/4 were retracted (click to expand)</summary><pre>:- dynamic iranylistak/4.\n",
       "\n",
       "iranylistak(A-B, [C-D|E], F, [G|H]) :-\n",
       "    check_tent_pos(A-B,\n",
       "                   C-D,\n",
       "                   F,\n",
       "                   [e, n, s, w],\n",
       "                   G),\n",
       "    iranylistak(A-B, E, H).\n",
       "iranylistak(_, [], _, []).\n",
       "</pre></details>"
      ],
      "text/plain": [
       "Previously defined clauses of user:iranylistak/4 were retracted:\n",
       ":- dynamic iranylistak/4.\n",
       "\n",
       "iranylistak(A-B, [C-D|E], F, [G|H]) :-\n",
       "    check_tent_pos(A-B,\n",
       "                   C-D,\n",
       "                   F,\n",
       "                   [e, n, s, w],\n",
       "                   G),\n",
       "    iranylistak(A-B, E, H).\n",
       "iranylistak(_, [], _, []).\n"
      ]
     },
     "metadata": {
      "application/json": {}
     },
     "output_type": "display_data"
    },
    {
     "data": {
      "text/plain": [
       "% Asserting clauses for user:iranylistak/4\n"
      ]
     },
     "metadata": {},
     "output_type": "display_data"
    },
    {
     "data": {
      "text/plain": [
       "\u001b[1mILs = [[e,s]]"
      ]
     },
     "metadata": {},
     "output_type": "display_data"
    },
    {
     "data": {
      "text/plain": [
       "\u001b[1mILs = [[e],[e,n,s]]"
      ]
     },
     "metadata": {},
     "output_type": "display_data"
    },
    {
     "data": {
      "text/plain": [
       "\u001b[1mILs = [[e,s,w],[e,s,w],[e,n,s],[n,s,w],[e,n,s],[e,n,s,w],[e,n,w]]"
      ]
     },
     "metadata": {},
     "output_type": "display_data"
    },
    {
     "data": {
      "text/plain": [
       "\u001b[1mILs = []"
      ]
     },
     "metadata": {},
     "output_type": "display_data"
    }
   ],
   "source": [
    "dir_pos(n, Row-Col, Row1-Col):-\n",
    "    Row1 is Row - 1.\n",
    "\n",
    "dir_pos(e, Row-Col, Row-Col1):-\n",
    "    Col1 is Col + 1.\n",
    "\n",
    "dir_pos(s, Row-Col, Row1-Col):-\n",
    "    Row1 is Row + 1.\n",
    "\n",
    "dir_pos(w, Row-Col, Row-Col1):-\n",
    "    Col1 is Col - 1.\n",
    "\n",
    "is_pos_valid(Row-Col, MaxRow-MaxCol, Trees):-\n",
    "    Row >= 1,\n",
    "    Row =< MaxRow,\n",
    "    Col >= 1,\n",
    "    Col =< MaxCol,\n",
    "    \\+member(Row-Col, Trees).\n",
    "\n",
    "check_tent_pos(MaxRow-MaxCol, Row-Col, Trees, [Dir | DirTail], [Dir | IL]):-\n",
    "    check_tent_pos(MaxRow-MaxCol, Row-Col, Trees, DirTail, IL),\n",
    "    dir_pos(Dir, Row-Col, TentRow-TentCol),\n",
    "    is_pos_valid(TentRow-TentCol, MaxRow-MaxCol, Trees).\n",
    "\n",
    "check_tent_pos(MaxRow-MaxCol, Row-Col, Trees, [Dir | DirTail], IL):-\n",
    "    check_tent_pos(MaxRow-MaxCol, Row-Col, Trees, DirTail, IL),\n",
    "    dir_pos(Dir, Row-Col, TentRow-TentCol),\n",
    "    \\+is_pos_valid(TentRow-TentCol, MaxRow-MaxCol, Trees).\n",
    "\n",
    "    \n",
    "check_tent_pos(_, _, _, [], []).\n",
    "\n",
    "ensure_dir_lists([]).\n",
    "ensure_dir_lists([H|T]):-\n",
    "    length(H, L),\n",
    "    L > 0,\n",
    "    ensure_dir_lists(T).\n",
    "\n",
    "iranylistak(MaxRow-MaxCol, Trees, IranyListak):-\n",
    "    iranylistak(MaxRow-MaxCol, Trees, Trees, IranyListak),\n",
    "    ensure_dir_lists(IranyListak), !.\n",
    "\n",
    "iranylistak(_,_,[]).\n",
    "\n",
    "iranylistak(MaxRow-MaxCol, [TreeRow-TreeCol | Fs], Trees, [IL| ILs]):-\n",
    "    check_tent_pos(MaxRow-MaxCol, TreeRow-TreeCol, Trees, [e, n, s, w], IL),\n",
    "    iranylistak(MaxRow-MaxCol, Fs, ILs).\n",
    "iranylistak(_, [], _, []).\n",
    "\n",
    "?- iranylistak(5-5, [1-1], ILs).\n",
    "?- iranylistak(3-3, [1-1,2-1], ILs).\n",
    "?- iranylistak(6-6, [1-3,1-5,3-1,4-6,5-1,5-4,6-5], ILs).\n",
    "?- iranylistak(2-3, [1-1,1-2,2-1], ILs)."
   ]
  }
 ],
 "metadata": {
  "kernelspec": {
   "display_name": "Prolog",
   "language": "prolog",
   "name": "prolog_kernel"
  },
  "language_info": {
   "codemirror_mode": "prolog",
   "file_extension": ".pl",
   "mimetype": "text/x-prolog",
   "name": "Prolog"
  }
 },
 "nbformat": 4,
 "nbformat_minor": 2
}
