{
 "cells": [
  {
   "cell_type": "code",
   "execution_count": null,
   "metadata": {},
   "outputs": [
    {
     "ename": "",
     "evalue": "",
     "output_type": "error",
     "traceback": [
      "\u001b[1;31mFailed to start the Kernel. \n",
      "\u001b[1;31mFileNotFoundError: [Errno 2] No such file or directory: 'sicstus'. \n",
      "\u001b[1;31mView Jupyter <a href='command:jupyter.viewOutput'>log</a> for further details."
     ]
    }
   ],
   "source": [
    "jupyter:set_prolog_impl(sicstus)."
   ]
  },
  {
   "cell_type": "code",
   "execution_count": null,
   "metadata": {},
   "outputs": [],
   "source": [
    "iranylistak(MaxRow-MaxCol, [TreeRow-TreeCol | Fs], [IL| ILs]):-\n",
    "    TreeRow < MaxRow,\n",
    "    TreeCol < MaxCol,\n",
    "    TreeCol > 1, \n",
    "    TreeRow > 1,\n",
    "    iranylistak(MaxRow-MaxCol, [Fs], [ILs])."
   ]
  }
 ],
 "metadata": {
  "kernelspec": {
   "display_name": "Prolog",
   "language": "prolog",
   "name": "prolog_kernel"
  },
  "language_info": {
   "codemirror_mode": "prolog",
   "file_extension": ".pl",
   "mimetype": "text/x-prolog",
   "name": "prolog"
  }
 },
 "nbformat": 4,
 "nbformat_minor": 2
}
