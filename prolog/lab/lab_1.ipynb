{
 "cells": [
  {
   "cell_type": "markdown",
   "metadata": {},
   "source": [
    "# Prolog 1. gyakorlat\n",
    "\n",
    "## \"P\". Témakör: programok írása\n",
    "\n",
    "Megoldásait ellenőrizheti az ETS segítségével: https://dp.iit.bme.hu/ets/,\n",
    "Gyakorlás menüpont (bal oldalon fent), utolsó témakör (Prolog programozás),\n",
    "a lenyíló menüben Prolog 1. gyakorlat, ill.  Prolog 1. gyakorlat szorgalmi\n",
    "feladatok menüpont választásával.\n",
    "\n",
    "A programozási feladatok megoldásaként olyan Prolog eljárást kell írnia, amely\n",
    "megfelel az adott fejkommentnek. Ha külön nem kérjük, akkor nem szükséges,\n",
    "hogy jobbrekurzív (iteratív) eljárásokat írjon, de természetesen a\n",
    "jobbrekurzív változatot ilyenkor is elfogadjuk.\n",
    "\n",
    "Bármely feladat megoldásához felhasználhat korábbi sorszámú feladatokban\n",
    "definiált eljárásokat. Ha ilyeneken kívül is szükséges segédeljárás\n",
    "definiálása, azt külön jelezzük. Természetesen más esetben is használhat\n",
    "segédeljárást. Minden segédeljáráshoz írjon fejkommentet!\n",
    "\n",
    "Nem használhat könyvtári eljárásokat, mellékhatásos beépített eljárásokat,\n",
    "valamint az alábbi listakezelő eljárásokat: `append/3`, `member/2`,\n",
    "`memberchk/2`, `nonmember/2`.\n",
    "\n",
    "Hibakezeléssel nem kell foglalkoznia: a megírt eljárásoknak csak a fejkomment\n",
    "által megadott argumentumértékek esetén kell az előírt módon viselkedniük.\n",
    "\n",
    "Az alábbi példasorban a (bináris) fa adatstruktúra alatt egy olyan Prolog\n",
    "kifejezést értünk, amely lehet\n",
    "      - levél, azaz egy 'leaf' nevû struktúra, amelynek egyetlen\n",
    "        argumentuma egy egész szám, pl. `leaf(1)`, `leaf(2)`; vagy\n",
    "      - csomópont, azaz egy node nevû kétargumentumú struktúra, amelynek\n",
    "        mindkét argumentuma 'fa', pl. `node(leaf(1),leaf(2))`.\n",
    "\n",
    "A fejkommentekben használt ún. input/output módjelölések magyarázata:\n",
    "```\n",
    "*: az argumentum tömör bemenő, azaz nem lehet változó, és nem is\n",
    "   tartalmazhat változót;\n",
    "+: az argumentum bemenő, azaz nem lehet változó, de tartalmazhat változót\n",
    "   (természetesen csak akkor, ha az argumentum egy struktúra);\n",
    "-: az argumentum kimenő, azaz változó;\n",
    "?: az argumentum lehet kimenő és bemenő is.\n",
    "```"
   ]
  },
  {
   "cell_type": "markdown",
   "metadata": {},
   "source": [
    "### P1. Számsorozat generálása  \n",
    "```prolog\n",
    "% seq(+N, +M, -L): Az L lista M-N+1 hosszú, elemei 1 különbségű számtani\n",
    "% sorozatot alkotnak, és L első eleme (ha van) N, ahol N és M egész számok. \n",
    "```"
   ]
  },
  {
   "cell_type": "code",
   "execution_count": 1,
   "metadata": {
    "vscode": {
     "languageId": "prolog"
    }
   },
   "outputs": [
    {
     "data": {
      "text/plain": [
       "% Asserting clauses for user:seq/3\n"
      ]
     },
     "metadata": {},
     "output_type": "display_data"
    }
   ],
   "source": [
    "% seq(+N, +M, -L): Az L lista M-N+1 hosszú, elemei 1 különbségû számtani\n",
    "% sorozatot alkotnak, és L első eleme (ha van) N, ahol N és M egész számok. \n",
    "seq(N,M,L) :- N < M, N1 is N+1, seq(N1,M,L1), L = [N|L1].\n",
    "seq(N,M,L) :- N =:= M, L = [N].\n",
    "seq(N,M,L) :- N > M, L = []."
   ]
  },
  {
   "cell_type": "code",
   "execution_count": 2,
   "metadata": {
    "vscode": {
     "languageId": "prolog"
    }
   },
   "outputs": [
    {
     "data": {
      "text/plain": [
       "\u001b[1mL = [2,3,4]"
      ]
     },
     "metadata": {},
     "output_type": "display_data"
    },
    {
     "data": {
      "text/plain": [
       "\u001b[1mL2 = []"
      ]
     },
     "metadata": {},
     "output_type": "display_data"
    },
    {
     "data": {
      "text/plain": [
       "\u001b[1mL = []"
      ]
     },
     "metadata": {},
     "output_type": "display_data"
    },
    {
     "data": {
      "text/plain": [
       "\u001b[1mL = [-4,-3,-2]"
      ]
     },
     "metadata": {},
     "output_type": "display_data"
    }
   ],
   "source": [
    "?- seq(2, 4, L),\n",
    "    L = [2,3,4].\n",
    "\n",
    "?- seq(4, 2, L2),\n",
    "    L2 = [].\n",
    "\n",
    "?- seq(4, 3, L),\n",
    "    L = [].\n",
    "\n",
    "?- seq(-4, -2, L),\n",
    "    L = [-4,-3,-2]."
   ]
  },
  {
   "cell_type": "markdown",
   "metadata": {},
   "source": [
    "### P2. Számintervallum felsorolása"
   ]
  },
  {
   "cell_type": "code",
   "execution_count": 69,
   "metadata": {
    "vscode": {
     "languageId": "prolog"
    }
   },
   "outputs": [
    {
     "data": {
      "text/plain": [
       "% Asserting clauses for user:max/2\n"
      ]
     },
     "metadata": {},
     "output_type": "display_data"
    }
   ],
   "source": [
    "% max(+N, ?X): X egy egész szám, melyre 0 < X =< N, ahol N adott\n",
    "% egész szám. Az eljárás a fenti feltételeknek megfelelő X számokat\n",
    "\n",
    "% sorolja fel. A felsorolás sorrendjére nem teszünk megkötést.\n",
    "\n",
    "% max(N, M) :- N > 0, N >= M.\n",
    "max(N, M) :- N > 0, N = M.\n",
    "max(N, M) :- N > 0, N1 is N-1, max(N1, M).\n"
   ]
  },
  {
   "cell_type": "code",
   "execution_count": 72,
   "metadata": {
    "vscode": {
     "languageId": "prolog"
    }
   },
   "outputs": [
    {
     "data": {
      "text/plain": [
       "\u001b[1mX = 1"
      ]
     },
     "metadata": {},
     "output_type": "display_data"
    },
    {
     "data": {
      "text/markdown": [
       "X | \n",
       ":- | \n",
       "4 | \n",
       "3 | \n",
       "2 | \n",
       "1 | "
      ],
      "text/plain": [
       "X | \n",
       ":- | \n",
       "4 | \n",
       "3 | \n",
       "2 | \n",
       "1 | "
      ]
     },
     "metadata": {},
     "output_type": "display_data"
    },
    {
     "data": {
      "text/plain": [
       "\u001b[1mtrue"
      ]
     },
     "metadata": {},
     "output_type": "display_data"
    },
    {
     "data": {
      "text/plain": [
       "\u001b[1;31mfalse"
      ]
     },
     "metadata": {},
     "output_type": "display_data"
    },
    {
     "data": {
      "text/plain": [
       "\u001b[1mtrue"
      ]
     },
     "metadata": {},
     "output_type": "display_data"
    }
   ],
   "source": [
    "\n",
    "?- max(1,X),\n",
    "    X = 1.\n",
    "\n",
    "?- jupyter:print_table(max(4,X)). % [4,3,2,1]\n",
    "\n",
    "?- max(0,X). % false \n",
    "\n",
    "?- max(4,3). % true"
   ]
  },
  {
   "cell_type": "code",
   "execution_count": 16,
   "metadata": {
    "vscode": {
     "languageId": "prolog"
    }
   },
   "outputs": [
    {
     "data": {
      "text/plain": [
       "% Asserting clauses for user:hatv/3\n"
      ]
     },
     "metadata": {},
     "output_type": "display_data"
    },
    {
     "data": {
      "text/plain": [
       "\u001b[1mX = 1"
      ]
     },
     "metadata": {},
     "output_type": "display_data"
    },
    {
     "data": {
      "text/plain": [
       "\u001b[1mX = 3"
      ]
     },
     "metadata": {},
     "output_type": "display_data"
    },
    {
     "data": {
      "text/plain": [
       "\u001b[1mX = 243"
      ]
     },
     "metadata": {},
     "output_type": "display_data"
    }
   ],
   "source": [
    "% hatv(+A, +E, -H):  H = A ^ E, ahol A egész szám, E >= 0 egész szám.\n",
    "hatv(A, 0, 1).\n",
    "hatv(A, E, H) :- \n",
    "    E > 0, \n",
    "    E1 is E-1, \n",
    "    hatv(A, E1, H1),\n",
    "    H is H1 * A.\n",
    "\n",
    "?- hatv(3, 0, X),\n",
    "    X = 1.\n",
    "?- hatv(3, 1, X),\n",
    "    X = 3.\n",
    "?- hatv(3, 5, X),\n",
    "    X = 243."
   ]
  },
  {
   "cell_type": "markdown",
   "metadata": {},
   "source": [
    "### P4. Fa csomópontjainak megszámolása\n",
    "Egy fa csomópontjainak száma a benne előforduló node/2 struktúrák száma. "
   ]
  },
  {
   "cell_type": "code",
   "execution_count": 20,
   "metadata": {
    "vscode": {
     "languageId": "prolog"
    }
   },
   "outputs": [
    {
     "data": {
      "text/html": [
       "\n",
       "            <style>\n",
       "            details  {\n",
       "              font-family: Menlo, Consolas, 'DejaVu Sans Mono', monospace; font-size: 13px;\n",
       "            }\n",
       "\n",
       "            details > summary {\n",
       "              cursor: pointer;\n",
       "            }\n",
       "            </style>\n",
       "            <details><summary>Previously defined clauses of user:fa_pontszama/2 were retracted (click to expand)</summary><pre>:- dynamic fa_pontszama/2.\n",
       "\n",
       "fa_pontszama(node(leaf(_), leaf(_)), 1).\n",
       "fa_pontszama(A, B) :-\n",
       "    A=node(C, D),\n",
       "    fa_pontszama(C, E),\n",
       "    fa_pontszama(D, F),\n",
       "    B is E+F+1.\n",
       "</pre></details>"
      ],
      "text/plain": [
       "Previously defined clauses of user:fa_pontszama/2 were retracted:\n",
       ":- dynamic fa_pontszama/2.\n",
       "\n",
       "fa_pontszama(node(leaf(_), leaf(_)), 1).\n",
       "fa_pontszama(A, B) :-\n",
       "    A=node(C, D),\n",
       "    fa_pontszama(C, E),\n",
       "    fa_pontszama(D, F),\n",
       "    B is E+F+1.\n"
      ]
     },
     "metadata": {
      "application/json": {}
     },
     "output_type": "display_data"
    },
    {
     "data": {
      "text/plain": [
       "% Asserting clauses for user:fa_pontszama/2\n"
      ]
     },
     "metadata": {},
     "output_type": "display_data"
    }
   ],
   "source": [
    "% fa_pontszama(*Fa, -N): A Fa bináris fa csomópontjainak száma N.\n",
    "fa_pontszama(leaf(_), 0).\n",
    "fa_pontszama(Fa, N) :-\n",
    "    Fa = node(Left, Right),\n",
    "    fa_pontszama(Left, N1),\n",
    "    fa_pontszama(Right, N2),\n",
    "    N is N1 + N2 + 1.\n"
   ]
  },
  {
   "cell_type": "code",
   "execution_count": 24,
   "metadata": {
    "vscode": {
     "languageId": "prolog"
    }
   },
   "outputs": [
    {
     "data": {
      "text/plain": [
       "\u001b[1mtrue"
      ]
     },
     "metadata": {},
     "output_type": "display_data"
    },
    {
     "data": {
      "text/plain": [
       "\u001b[1mN = 2"
      ]
     },
     "metadata": {},
     "output_type": "display_data"
    },
    {
     "data": {
      "text/plain": [
       "\u001b[1mN = 3"
      ]
     },
     "metadata": {},
     "output_type": "display_data"
    }
   ],
   "source": [
    "?- fa_pontszama(leaf(1), 0).\n",
    "?- fa_pontszama(node(leaf(1),node(leaf(2),leaf(3))), N),\n",
    "    N = 2.\n",
    "\n",
    "?- fa_pontszama(node(leaf(1),node(leaf(2),node(leaf(4),leaf(3)))), N),\n",
    "    N = 3."
   ]
  },
  {
   "cell_type": "markdown",
   "metadata": {},
   "source": [
    "### P5. Fa minden levélértékének növelése"
   ]
  },
  {
   "cell_type": "code",
   "execution_count": 27,
   "metadata": {
    "vscode": {
     "languageId": "prolog"
    }
   },
   "outputs": [
    {
     "data": {
      "text/plain": [
       "% Asserting clauses for user:fa_noveltje/2\n"
      ]
     },
     "metadata": {},
     "output_type": "display_data"
    }
   ],
   "source": [
    "% fa_noveltje(*Fa0, ?Fa): Fa úgy áll elő a Fa0 bináris fából, hogy az\n",
    "% utóbbi minden egyes levelében levő értéket 1-gyel megnöveljük.\n",
    "\n",
    "fa_noveltje(leaf(X), leaf(X1)) :- X1 is X+1.\n",
    "fa_noveltje(Fa0, Fa) :-\n",
    "    Fa0 = node(Left, Right),\n",
    "    fa_noveltje(Left, Left1),\n",
    "    fa_noveltje(Right, Right1),\n",
    "    Fa = node(Left1, Right1)."
   ]
  },
  {
   "cell_type": "code",
   "execution_count": 28,
   "metadata": {
    "vscode": {
     "languageId": "prolog"
    }
   },
   "outputs": [
    {
     "data": {
      "text/plain": [
       "\u001b[1mFa = node(leaf(2),node(leaf(3),leaf(4)))"
      ]
     },
     "metadata": {},
     "output_type": "display_data"
    }
   ],
   "source": [
    "?- fa_noveltje(node(leaf(1),node(leaf(2),leaf(3))), Fa),\n",
    "    Fa = node(leaf(2),node(leaf(3),leaf(4)))."
   ]
  },
  {
   "cell_type": "markdown",
   "metadata": {},
   "source": [
    "### P6. Lista hosszának meghatározása"
   ]
  },
  {
   "cell_type": "code",
   "execution_count": 43,
   "metadata": {
    "vscode": {
     "languageId": "prolog"
    }
   },
   "outputs": [
    {
     "data": {
      "text/html": [
       "\n",
       "            <style>\n",
       "            details  {\n",
       "              font-family: Menlo, Consolas, 'DejaVu Sans Mono', monospace; font-size: 13px;\n",
       "            }\n",
       "\n",
       "            details > summary {\n",
       "              cursor: pointer;\n",
       "            }\n",
       "            </style>\n",
       "            <details><summary>Previously defined clauses of user:lista_hossza/2 were retracted (click to expand)</summary><pre>:- dynamic lista_hossza/2.\n",
       "\n",
       "lista_hossza([], 0).\n",
       "lista_hossza([A|B], A) :-\n",
       "    print(A),\n",
       "    lista_hossza(B, C),\n",
       "    A is 1+C.\n",
       "</pre></details>"
      ],
      "text/plain": [
       "Previously defined clauses of user:lista_hossza/2 were retracted:\n",
       ":- dynamic lista_hossza/2.\n",
       "\n",
       "lista_hossza([], 0).\n",
       "lista_hossza([A|B], A) :-\n",
       "    print(A),\n",
       "    lista_hossza(B, C),\n",
       "    A is 1+C.\n"
      ]
     },
     "metadata": {
      "application/json": {}
     },
     "output_type": "display_data"
    },
    {
     "data": {
      "text/plain": [
       "% Asserting clauses for user:lista_hossza/2\n"
      ]
     },
     "metadata": {},
     "output_type": "display_data"
    }
   ],
   "source": [
    "% lista_hossza(*Lista, -Hossz): A Lista egészlista hossza Hossz.\n",
    "\n",
    "lista_hossza([], 0).\n",
    "lista_hossza([H| Tail], L) :-\n",
    "    lista_hossza(Tail, L1),\n",
    "    L is 1 + L1."
   ]
  },
  {
   "cell_type": "code",
   "execution_count": 45,
   "metadata": {
    "vscode": {
     "languageId": "prolog"
    }
   },
   "outputs": [
    {
     "data": {
      "text/plain": [
       "\u001b[1mH = 3"
      ]
     },
     "metadata": {},
     "output_type": "display_data"
    }
   ],
   "source": [
    "?- lista_hossza([1,3,5], H),\n",
    "    H = 3."
   ]
  },
  {
   "cell_type": "markdown",
   "metadata": {},
   "source": [
    "### P7. Egészlista minden elemének növelése"
   ]
  },
  {
   "cell_type": "code",
   "execution_count": 46,
   "metadata": {
    "vscode": {
     "languageId": "prolog"
    }
   },
   "outputs": [
    {
     "data": {
      "text/plain": [
       "% Asserting clauses for user:lista_noveltje/2\n"
      ]
     },
     "metadata": {},
     "output_type": "display_data"
    }
   ],
   "source": [
    "% lista_noveltje(*L0, ?L): Az L egészlista úgy áll elő az L0\n",
    "% egészlistából, hogy az utóbbi minden egyes elemét 1-gyel megnöveljük.\n",
    "\n",
    "lista_noveltje([], []).\n",
    "lista_noveltje([H|T], [H1|T1]) :-\n",
    "    H1 is H+1,\n",
    "    lista_noveltje(T, T1)."
   ]
  },
  {
   "cell_type": "code",
   "execution_count": 47,
   "metadata": {
    "vscode": {
     "languageId": "prolog"
    }
   },
   "outputs": [
    {
     "data": {
      "text/plain": [
       "\u001b[1mL = [2,6,3]"
      ]
     },
     "metadata": {},
     "output_type": "display_data"
    }
   ],
   "source": [
    "lista_noveltje([1,5,2], L),\n",
    "    L = [2,6,3]"
   ]
  },
  {
   "cell_type": "markdown",
   "metadata": {},
   "source": [
    "### P8. Egy lista utolsó elemének meghatározása"
   ]
  },
  {
   "cell_type": "code",
   "execution_count": 48,
   "metadata": {
    "vscode": {
     "languageId": "prolog"
    }
   },
   "outputs": [
    {
     "data": {
      "text/plain": [
       "% Asserting clauses for user:lista_utolso_eleme/2\n"
      ]
     },
     "metadata": {},
     "output_type": "display_data"
    }
   ],
   "source": [
    "% lista_utolso_eleme(*L, ?Ertek): Az L egészlista utolsó eleme Ertek.\n",
    "\n",
    "lista_utolso_eleme([E], E).\n",
    "lista_utolso_eleme([_|T], E) :- lista_utolso_eleme(T, E)."
   ]
  },
  {
   "cell_type": "code",
   "execution_count": 49,
   "metadata": {
    "vscode": {
     "languageId": "prolog"
    }
   },
   "outputs": [
    {
     "data": {
      "text/plain": [
       "\u001b[1mE = 7"
      ]
     },
     "metadata": {},
     "output_type": "display_data"
    }
   ],
   "source": [
    "lista_utolso_eleme([5,1,2,8,7], E),\n",
    "    E = 7"
   ]
  },
  {
   "cell_type": "markdown",
   "metadata": {},
   "source": [
    "### P9. Egy fa leveleiben található értékek felsorolása"
   ]
  },
  {
   "cell_type": "code",
   "execution_count": 75,
   "metadata": {
    "vscode": {
     "languageId": "prolog"
    }
   },
   "outputs": [
    {
     "data": {
      "text/plain": [
       "% Asserting clauses for user:fa_levelerteke/2\n"
      ]
     },
     "metadata": {},
     "output_type": "display_data"
    }
   ],
   "source": [
    "% fa_levelerteke(*Fa, -Ertek): A Fa bináris fa egy levelében található\n",
    "% érték az Ertek.\n",
    "\n",
    "fa_levelerteke(leaf(E), E).\n",
    "fa_levelerteke(node(Left, _), E) :- fa_levelerteke(Left, E).\n",
    "fa_levelerteke(node(_, Right), E) :- fa_levelerteke(Right, E)."
   ]
  },
  {
   "cell_type": "code",
   "execution_count": 76,
   "metadata": {
    "vscode": {
     "languageId": "prolog"
    }
   },
   "outputs": [
    {
     "data": {
      "text/markdown": [
       "E | \n",
       ":- | \n",
       "1 | \n",
       "2 | \n",
       "3 | "
      ],
      "text/plain": [
       "E | \n",
       ":- | \n",
       "1 | \n",
       "2 | \n",
       "3 | "
      ]
     },
     "metadata": {},
     "output_type": "display_data"
    },
    {
     "data": {
      "text/plain": [
       "\u001b[1mtrue"
      ]
     },
     "metadata": {},
     "output_type": "display_data"
    }
   ],
   "source": [
    "?- jupyter:print_table(fa_levelerteke(node(leaf(1),node(leaf(2),leaf(3))), E))."
   ]
  },
  {
   "cell_type": "markdown",
   "metadata": {},
   "source": [
    "### P10. Egy fa részfáinak a felsorolása\n",
    "\n",
    "Egy fa (nem feltétlenül valódi) részfájának nevezzük saját magát,\n",
    "valamint - ha a fa egy csomópont - akkor a bal és jobboldali ág részfáit. \n",
    "\n",
    "```prolog\n",
    "% fa_reszfaja(*Fa, -Resz): Resz a Fa bináris fa részfája.\n",
    "```\n",
    "\n",
    "A fenti eljárás nemdeterminisztikus, azaz többféleképpen sikerül:\n",
    "a Resz változóban fel kell sorolnia a Fa összes részfáját. A felsorolás\n",
    "sorrendjére nem teszünk megkötést.\n"
   ]
  },
  {
   "cell_type": "code",
   "execution_count": 45,
   "metadata": {
    "vscode": {
     "languageId": "prolog"
    }
   },
   "outputs": [
    {
     "data": {
      "text/html": [
       "\n",
       "            <style>\n",
       "            details  {\n",
       "              font-family: Menlo, Consolas, 'DejaVu Sans Mono', monospace; font-size: 13px;\n",
       "            }\n",
       "\n",
       "            details > summary {\n",
       "              cursor: pointer;\n",
       "            }\n",
       "            </style>\n",
       "            <details><summary>Previously defined clauses of user:fa_reszfaja/2 were retracted (click to expand)</summary><pre>:- dynamic fa_reszfaja/2.\n",
       "\n",
       "fa_reszfaja(A, A).\n",
       "fa_reszfaja(node(A, _), B) :-\n",
       "    fa_reszfaja(A, B).\n",
       "fa_reszfaja(node(_, A), B) :-\n",
       "    fa_reszfaja(A, B).\n",
       "</pre></details>"
      ],
      "text/plain": [
       "Previously defined clauses of user:fa_reszfaja/2 were retracted:\n",
       ":- dynamic fa_reszfaja/2.\n",
       "\n",
       "fa_reszfaja(A, A).\n",
       "fa_reszfaja(node(A, _), B) :-\n",
       "    fa_reszfaja(A, B).\n",
       "fa_reszfaja(node(_, A), B) :-\n",
       "    fa_reszfaja(A, B).\n"
      ]
     },
     "metadata": {
      "application/json": {}
     },
     "output_type": "display_data"
    },
    {
     "data": {
      "text/plain": [
       "% Asserting clauses for user:fa_reszfaja/2\n"
      ]
     },
     "metadata": {},
     "output_type": "display_data"
    }
   ],
   "source": [
    "% fa_reszfaja(*Fa, -Resz): Resz a Fa bináris fa részfája.\n",
    "fa_reszfaja(Fa, Fa).\n",
    "fa_reszfaja(node(Left, _), Resz) :- fa_reszfaja(Left, Resz).\n",
    "fa_reszfaja(node(_, Right), Resz) :- fa_reszfaja(Right, Resz)."
   ]
  },
  {
   "cell_type": "code",
   "execution_count": 67,
   "metadata": {
    "vscode": {
     "languageId": "prolog"
    }
   },
   "outputs": [
    {
     "data": {
      "text/markdown": [
       "Fa | \n",
       ":- | \n",
       "node(leaf(1),node(leaf(2),leaf(3))) | \n",
       "leaf(1) | \n",
       "node(leaf(2),leaf(3)) | \n",
       "leaf(2) | \n",
       "leaf(3) | "
      ],
      "text/plain": [
       "Fa | \n",
       ":- | \n",
       "node(leaf(1),node(leaf(2),leaf(3))) | \n",
       "leaf(1) | \n",
       "node(leaf(2),leaf(3)) | \n",
       "leaf(2) | \n",
       "leaf(3) | "
      ]
     },
     "metadata": {},
     "output_type": "display_data"
    },
    {
     "data": {
      "text/plain": [
       "\u001b[1mtrue"
      ]
     },
     "metadata": {},
     "output_type": "display_data"
    }
   ],
   "source": [
    "?- jupyter:print_table(fa_reszfaja(node(leaf(1),node(leaf(2),leaf(3))), Fa))."
   ]
  },
  {
   "cell_type": "markdown",
   "metadata": {},
   "source": [
    "#### Fa levélélrtéke 2"
   ]
  },
  {
   "cell_type": "code",
   "execution_count": 73,
   "metadata": {
    "vscode": {
     "languageId": "prolog"
    }
   },
   "outputs": [
    {
     "data": {
      "text/plain": [
       "% Asserting clauses for user:fa_levelerteke2/2\n"
      ]
     },
     "metadata": {},
     "output_type": "display_data"
    }
   ],
   "source": [
    "% fa_levelerteke2(*Fa, -Ertek): A Fa bináris fa egy levelében található\n",
    "% érték az Ertek.\n",
    "fa_levelerteke2(Fa, E) :- fa_reszfaja(Fa, Resz), Resz = leaf(E)."
   ]
  },
  {
   "cell_type": "code",
   "execution_count": 77,
   "metadata": {
    "vscode": {
     "languageId": "prolog"
    }
   },
   "outputs": [
    {
     "data": {
      "text/markdown": [
       "E | \n",
       ":- | \n",
       "1 | \n",
       "2 | \n",
       "3 | "
      ],
      "text/plain": [
       "E | \n",
       ":- | \n",
       "1 | \n",
       "2 | \n",
       "3 | "
      ]
     },
     "metadata": {},
     "output_type": "display_data"
    },
    {
     "data": {
      "text/plain": [
       "\u001b[1mtrue"
      ]
     },
     "metadata": {},
     "output_type": "display_data"
    }
   ],
   "source": [
    "?- jupyter:print_table(fa_levelerteke2(node(leaf(1),node(leaf(2),leaf(3))), E))."
   ]
  },
  {
   "cell_type": "markdown",
   "metadata": {},
   "source": [
    "### P11. Egy lista prefixumainak a felsorolása\n",
    "\n",
    "Egy L n-elemû lista prefixumának nevezzünk egy listát, ha az az L első k\n",
    "elemét tartalmazza (az L-beli sorrend megtartásával), ahol 0 =< k =< n.\n",
    "```prolog\n",
    "% lista_prefixuma(*L0, -L): L az L0 egészlista prefixuma.\n",
    "```\n",
    "\n",
    "A fenti eljárás nemdeterminisztikus, azaz többféleképpen sikerül: az L\n",
    "változóban fel kell sorolnia a L0 összes prefixumát. A felsorolás\n",
    "sorrendjére nem teszünk megkötést."
   ]
  },
  {
   "cell_type": "code",
   "execution_count": 81,
   "metadata": {
    "vscode": {
     "languageId": "prolog"
    }
   },
   "outputs": [
    {
     "data": {
      "text/html": [
       "\n",
       "            <style>\n",
       "            details  {\n",
       "              font-family: Menlo, Consolas, 'DejaVu Sans Mono', monospace; font-size: 13px;\n",
       "            }\n",
       "\n",
       "            details > summary {\n",
       "              cursor: pointer;\n",
       "            }\n",
       "            </style>\n",
       "            <details><summary>Previously defined clauses of user:lista_prefixuma/2 were retracted (click to expand)</summary><pre>:- dynamic lista_prefixuma/2.\n",
       "\n",
       "lista_prefixuma([], []).\n",
       "lista_prefixuma(A, B) :-\n",
       "    A=[C|D],\n",
       "    lista_prefixuma(D, E),\n",
       "    B=[C|E].\n",
       "</pre></details>"
      ],
      "text/plain": [
       "Previously defined clauses of user:lista_prefixuma/2 were retracted:\n",
       ":- dynamic lista_prefixuma/2.\n",
       "\n",
       "lista_prefixuma([], []).\n",
       "lista_prefixuma(A, B) :-\n",
       "    A=[C|D],\n",
       "    lista_prefixuma(D, E),\n",
       "    B=[C|E].\n"
      ]
     },
     "metadata": {
      "application/json": {}
     },
     "output_type": "display_data"
    },
    {
     "data": {
      "text/plain": [
       "% Asserting clauses for user:lista_prefixuma/2\n"
      ]
     },
     "metadata": {},
     "output_type": "display_data"
    },
    {
     "data": {
      "text/markdown": [
       "L | \n",
       ":- | "
      ],
      "text/plain": [
       "L | \n",
       ":- | "
      ]
     },
     "metadata": {},
     "output_type": "display_data"
    },
    {
     "data": {
      "text/plain": [
       "\u001b[1mtrue"
      ]
     },
     "metadata": {},
     "output_type": "display_data"
    }
   ],
   "source": [
    "% lista_prefixuma(*L0, -L): L az L0 egészlista prefixuma.\n",
    "lista_prefixuma(L0, L) :- \n",
    "    L0 = [H|T],\n",
    "    lista_prefixuma(T, L1),\n",
    "    L = [H|L1].\n",
    "\n",
    "?- jupyter:print_table(lista_prefixuma([1,2,3], L))."
   ]
  }
 ],
 "metadata": {
  "kernelspec": {
   "display_name": "Prolog",
   "language": "prolog",
   "name": "prolog_kernel"
  },
  "language_info": {
   "codemirror_mode": "prolog",
   "file_extension": ".pl",
   "mimetype": "text/x-prolog",
   "name": "Prolog"
  }
 },
 "nbformat": 4,
 "nbformat_minor": 2
}
